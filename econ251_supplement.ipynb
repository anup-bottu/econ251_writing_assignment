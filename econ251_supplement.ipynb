{
 "cells": [
  {
   "cell_type": "markdown",
   "metadata": {},
   "source": [
    "# Econ 251 Writing Asssignment Supplement\n",
    "\n",
    "## Anup Bottu"
   ]
  },
  {
   "cell_type": "code",
   "execution_count": 1,
   "metadata": {},
   "outputs": [],
   "source": [
    "import pandas as pd\n",
    "import matplotlib.pyplot as plt\n",
    "import numpy as np\n",
    "import statsmodels.api as sm\n",
    "import scipy.stats as stats\n",
    "\n",
    "import warnings\n",
    "warnings.filterwarnings(\"ignore\")"
   ]
  },
  {
   "cell_type": "code",
   "execution_count": 2,
   "metadata": {},
   "outputs": [],
   "source": [
    "# import factors\n",
    "xls = pd.ExcelFile(\"Quality Minus Junk Factors Monthly.xlsx\")\n",
    "mkt_series = 100*pd.read_excel(xls, \"MKT\", skiprows = 18, index_col = 0).loc[:, \"USA\"]\n",
    "smb_series = 100*pd.read_excel(xls, \"SMB\", skiprows = 18, index_col = 0).loc[:, \"USA\"]\n",
    "rf_series = 100*pd.read_excel(xls, \"RF\", skiprows = 18, index_col = 0).loc[:, \"Risk Free Rate\"]\n",
    "hml_series = 100*pd.read_excel(xls, \"HML FF\", skiprows = 18, index_col = 0).loc[:, \"USA\"]\n",
    "umd_series = 100*pd.read_excel(xls, \"UMD\", skiprows = 18, index_col = 0).loc[:, \"USA\"]\n",
    "\n",
    "factors_df = pd.DataFrame({\"MKT-RF\": mkt_series-rf_series, \"SMB\": smb_series, \"HML\": hml_series, \"UMD\": umd_series})\n",
    "\n",
    "# import quality portfolios\n",
    "xls = pd.ExcelFile(\"Quality Minus Junk 10 QualitySorted Portfolios Monthly.xlsx\")\n",
    "quality_portfolios_df = 100*pd.read_excel(xls, \"10 Portfolios Formed on Quality\", skiprows = 18, index_col = 0).iloc[:, :10] # Sheet 1"
   ]
  },
  {
   "cell_type": "code",
   "execution_count": 3,
   "metadata": {},
   "outputs": [],
   "source": [
    "# function that performs time series regression\n",
    "\n",
    "def perform_time_series_regression(factor_names, index):\n",
    "\n",
    "    factors = factors_df.loc[:, factor_names]\n",
    "    error_terms_df = pd.DataFrame(columns = quality_portfolios_df.columns)\n",
    "    factor_loadings_df = pd.DataFrame(index = quality_portfolios_df.columns, \\\n",
    "        columns = [\"Alpha\"] + factor_names)\n",
    "\n",
    "    # Time Series Regression\n",
    "    for portfolio in quality_portfolios_df.columns:\n",
    "        Y = quality_portfolios_df.loc[index, portfolio] - rf_series.loc[index]\n",
    "        X = sm.add_constant(factors.loc[index, :])\n",
    "        regression_result = sm.OLS(Y, X, missing = \"drop\").fit()\n",
    "        error_terms_df[portfolio] = regression_result.resid\n",
    "        factor_loadings_df.loc[portfolio, :] = list(regression_result.params)\n",
    "\n",
    "    # Calculate GRS F-Statistic and p-value\n",
    "    omega = mkt_series.var()\n",
    "    a = factor_loadings_df.loc[:, \"Alpha\"].to_numpy()\n",
    "    mu = mkt_series.mean()\n",
    "    sigma = error_terms_df.cov().to_numpy()\n",
    "\n",
    "    W = a.dot(np.linalg.inv(sigma)).dot(a) / (1 + mu * omega**(-1) * mu)\n",
    "\n",
    "    T = len(index)\n",
    "    N = len(quality_portfolios_df.T)\n",
    "    L = len(factors.T)\n",
    "    W_normalized = W * (T/N) * (T-N-L) / (T-L-1)\n",
    "\n",
    "    print(\"Alphas and Factor Loadings:\")\n",
    "    display(factor_loadings_df)\n",
    "    print(f'F-Statistic = {W_normalized}')\n",
    "    print(f'p-value = {1 - stats.f.cdf((W_normalized), N, T-N-L)}') \n",
    "\n",
    "    return factor_loadings_df.iloc[:, 0]"
   ]
  },
  {
   "cell_type": "code",
   "execution_count": 4,
   "metadata": {},
   "outputs": [],
   "source": [
    "# storing alphas for final figure \n",
    "\n",
    "alphas_df = pd.DataFrame(index = quality_portfolios_df.columns, \\\n",
    "    columns = [\"Paper CAPM Alpha\", \"Paper 4 Factor Alpha\", \\\n",
    "        \"Recent CAPM Alpha\", \"Recent 4 Factor Alpha\"])"
   ]
  },
  {
   "cell_type": "markdown",
   "metadata": {},
   "source": [
    "## <u> Part I: Recreating Paper Results (1957-2016) </u>"
   ]
  },
  {
   "cell_type": "code",
   "execution_count": 5,
   "metadata": {},
   "outputs": [],
   "source": [
    "paper_index_end = quality_portfolios_df.index.get_loc(\"2016-12-31\")\n",
    "paper_index = quality_portfolios_df.iloc[: paper_index_end, :].index\n",
    "index = paper_index.intersection(factors_df.index)"
   ]
  },
  {
   "cell_type": "markdown",
   "metadata": {},
   "source": [
    "### a) Testing Quality Portfolios Against the CAPM"
   ]
  },
  {
   "cell_type": "code",
   "execution_count": 6,
   "metadata": {},
   "outputs": [
    {
     "name": "stdout",
     "output_type": "stream",
     "text": [
      "Alphas and Factor Loadings:\n"
     ]
    },
    {
     "data": {
      "text/html": [
       "<div>\n",
       "<style scoped>\n",
       "    .dataframe tbody tr th:only-of-type {\n",
       "        vertical-align: middle;\n",
       "    }\n",
       "\n",
       "    .dataframe tbody tr th {\n",
       "        vertical-align: top;\n",
       "    }\n",
       "\n",
       "    .dataframe thead th {\n",
       "        text-align: right;\n",
       "    }\n",
       "</style>\n",
       "<table border=\"1\" class=\"dataframe\">\n",
       "  <thead>\n",
       "    <tr style=\"text-align: right;\">\n",
       "      <th></th>\n",
       "      <th>Alpha</th>\n",
       "      <th>MKT-RF</th>\n",
       "    </tr>\n",
       "  </thead>\n",
       "  <tbody>\n",
       "    <tr>\n",
       "      <th>P1 (low quality)</th>\n",
       "      <td>-0.410589</td>\n",
       "      <td>1.341999</td>\n",
       "    </tr>\n",
       "    <tr>\n",
       "      <th>P2</th>\n",
       "      <td>-0.149642</td>\n",
       "      <td>1.211163</td>\n",
       "    </tr>\n",
       "    <tr>\n",
       "      <th>P3</th>\n",
       "      <td>-0.099504</td>\n",
       "      <td>1.076454</td>\n",
       "    </tr>\n",
       "    <tr>\n",
       "      <th>P4</th>\n",
       "      <td>-0.037613</td>\n",
       "      <td>1.047318</td>\n",
       "    </tr>\n",
       "    <tr>\n",
       "      <th>P5</th>\n",
       "      <td>-0.053721</td>\n",
       "      <td>0.967851</td>\n",
       "    </tr>\n",
       "    <tr>\n",
       "      <th>P6</th>\n",
       "      <td>0.053595</td>\n",
       "      <td>0.999716</td>\n",
       "    </tr>\n",
       "    <tr>\n",
       "      <th>P7</th>\n",
       "      <td>0.08033</td>\n",
       "      <td>0.990277</td>\n",
       "    </tr>\n",
       "    <tr>\n",
       "      <th>P8</th>\n",
       "      <td>0.000342</td>\n",
       "      <td>0.979799</td>\n",
       "    </tr>\n",
       "    <tr>\n",
       "      <th>P9</th>\n",
       "      <td>0.153521</td>\n",
       "      <td>0.952708</td>\n",
       "    </tr>\n",
       "    <tr>\n",
       "      <th>P10 (high quality)</th>\n",
       "      <td>0.146755</td>\n",
       "      <td>0.918196</td>\n",
       "    </tr>\n",
       "  </tbody>\n",
       "</table>\n",
       "</div>"
      ],
      "text/plain": [
       "                       Alpha    MKT-RF\n",
       "P1 (low quality)   -0.410589  1.341999\n",
       "P2                 -0.149642  1.211163\n",
       "P3                 -0.099504  1.076454\n",
       "P4                 -0.037613  1.047318\n",
       "P5                 -0.053721  0.967851\n",
       "P6                  0.053595  0.999716\n",
       "P7                   0.08033  0.990277\n",
       "P8                  0.000342  0.979799\n",
       "P9                  0.153521  0.952708\n",
       "P10 (high quality)  0.146755  0.918196"
      ]
     },
     "metadata": {},
     "output_type": "display_data"
    },
    {
     "name": "stdout",
     "output_type": "stream",
     "text": [
      "F-Statistic = 3.3199896602686385\n",
      "p-value = 0.00031514321596504136\n"
     ]
    }
   ],
   "source": [
    "factor_names = [\"MKT-RF\"]\n",
    "alphas_df.loc[:, \"Paper CAPM Alpha\"] = perform_time_series_regression(factor_names, index)"
   ]
  },
  {
   "cell_type": "markdown",
   "metadata": {},
   "source": [
    "### b) Testing Quality Portfolios Against the Carhart Four Factor Model"
   ]
  },
  {
   "cell_type": "code",
   "execution_count": 7,
   "metadata": {},
   "outputs": [
    {
     "name": "stdout",
     "output_type": "stream",
     "text": [
      "Alphas and Factor Loadings:\n"
     ]
    },
    {
     "data": {
      "text/html": [
       "<div>\n",
       "<style scoped>\n",
       "    .dataframe tbody tr th:only-of-type {\n",
       "        vertical-align: middle;\n",
       "    }\n",
       "\n",
       "    .dataframe tbody tr th {\n",
       "        vertical-align: top;\n",
       "    }\n",
       "\n",
       "    .dataframe thead th {\n",
       "        text-align: right;\n",
       "    }\n",
       "</style>\n",
       "<table border=\"1\" class=\"dataframe\">\n",
       "  <thead>\n",
       "    <tr style=\"text-align: right;\">\n",
       "      <th></th>\n",
       "      <th>Alpha</th>\n",
       "      <th>MKT-RF</th>\n",
       "      <th>SMB</th>\n",
       "      <th>HML</th>\n",
       "      <th>UMD</th>\n",
       "    </tr>\n",
       "  </thead>\n",
       "  <tbody>\n",
       "    <tr>\n",
       "      <th>P1 (low quality)</th>\n",
       "      <td>-0.443717</td>\n",
       "      <td>1.238949</td>\n",
       "      <td>0.589928</td>\n",
       "      <td>0.1026</td>\n",
       "      <td>-0.104855</td>\n",
       "    </tr>\n",
       "    <tr>\n",
       "      <th>P2</th>\n",
       "      <td>-0.23276</td>\n",
       "      <td>1.192931</td>\n",
       "      <td>0.295913</td>\n",
       "      <td>0.250473</td>\n",
       "      <td>-0.050216</td>\n",
       "    </tr>\n",
       "    <tr>\n",
       "      <th>P3</th>\n",
       "      <td>-0.141279</td>\n",
       "      <td>1.070805</td>\n",
       "      <td>0.181667</td>\n",
       "      <td>0.224971</td>\n",
       "      <td>-0.074979</td>\n",
       "    </tr>\n",
       "    <tr>\n",
       "      <th>P4</th>\n",
       "      <td>-0.08511</td>\n",
       "      <td>1.070812</td>\n",
       "      <td>0.045133</td>\n",
       "      <td>0.227299</td>\n",
       "      <td>-0.044032</td>\n",
       "    </tr>\n",
       "    <tr>\n",
       "      <th>P5</th>\n",
       "      <td>-0.093681</td>\n",
       "      <td>1.014299</td>\n",
       "      <td>-0.07024</td>\n",
       "      <td>0.236371</td>\n",
       "      <td>-0.037878</td>\n",
       "    </tr>\n",
       "    <tr>\n",
       "      <th>P6</th>\n",
       "      <td>0.005517</td>\n",
       "      <td>1.028321</td>\n",
       "      <td>-0.024476</td>\n",
       "      <td>0.138381</td>\n",
       "      <td>0.008492</td>\n",
       "    </tr>\n",
       "    <tr>\n",
       "      <th>P7</th>\n",
       "      <td>0.019022</td>\n",
       "      <td>1.014085</td>\n",
       "      <td>0.006753</td>\n",
       "      <td>0.128555</td>\n",
       "      <td>0.025329</td>\n",
       "    </tr>\n",
       "    <tr>\n",
       "      <th>P8</th>\n",
       "      <td>-0.024154</td>\n",
       "      <td>0.996193</td>\n",
       "      <td>-0.025295</td>\n",
       "      <td>0.062845</td>\n",
       "      <td>0.009993</td>\n",
       "    </tr>\n",
       "    <tr>\n",
       "      <th>P9</th>\n",
       "      <td>0.19693</td>\n",
       "      <td>0.949774</td>\n",
       "      <td>-0.067705</td>\n",
       "      <td>-0.080217</td>\n",
       "      <td>-0.011575</td>\n",
       "    </tr>\n",
       "    <tr>\n",
       "      <th>P10 (high quality)</th>\n",
       "      <td>0.245146</td>\n",
       "      <td>0.888102</td>\n",
       "      <td>-0.118373</td>\n",
       "      <td>-0.339853</td>\n",
       "      <td>0.037571</td>\n",
       "    </tr>\n",
       "  </tbody>\n",
       "</table>\n",
       "</div>"
      ],
      "text/plain": [
       "                       Alpha    MKT-RF       SMB       HML       UMD\n",
       "P1 (low quality)   -0.443717  1.238949  0.589928    0.1026 -0.104855\n",
       "P2                  -0.23276  1.192931  0.295913  0.250473 -0.050216\n",
       "P3                 -0.141279  1.070805  0.181667  0.224971 -0.074979\n",
       "P4                  -0.08511  1.070812  0.045133  0.227299 -0.044032\n",
       "P5                 -0.093681  1.014299  -0.07024  0.236371 -0.037878\n",
       "P6                  0.005517  1.028321 -0.024476  0.138381  0.008492\n",
       "P7                  0.019022  1.014085  0.006753  0.128555  0.025329\n",
       "P8                 -0.024154  0.996193 -0.025295  0.062845  0.009993\n",
       "P9                   0.19693  0.949774 -0.067705 -0.080217 -0.011575\n",
       "P10 (high quality)  0.245146  0.888102 -0.118373 -0.339853  0.037571"
      ]
     },
     "metadata": {},
     "output_type": "display_data"
    },
    {
     "name": "stdout",
     "output_type": "stream",
     "text": [
      "F-Statistic = 5.834649246744047\n",
      "p-value = 1.7598182910916194e-08\n"
     ]
    }
   ],
   "source": [
    "factor_names = [\"MKT-RF\", \"SMB\", \"HML\", \"UMD\"]\n",
    "alphas_df.loc[:, \"Paper 4 Factor Alpha\"] = perform_time_series_regression(factor_names, index)"
   ]
  },
  {
   "cell_type": "markdown",
   "metadata": {},
   "source": [
    "## <u> Part II: Extending Paper Results (2011-2021) </u>"
   ]
  },
  {
   "cell_type": "code",
   "execution_count": 8,
   "metadata": {},
   "outputs": [],
   "source": [
    "paper_index_start = quality_portfolios_df.index.get_loc(\"2011-09-30\")\n",
    "paper_index = quality_portfolios_df.iloc[paper_index_start: , :].index\n",
    "index = paper_index.intersection(factors_df.index)"
   ]
  },
  {
   "cell_type": "markdown",
   "metadata": {},
   "source": [
    "### a) Testing Quality Portfolios Against the CAPM"
   ]
  },
  {
   "cell_type": "code",
   "execution_count": 9,
   "metadata": {},
   "outputs": [
    {
     "name": "stdout",
     "output_type": "stream",
     "text": [
      "Alphas and Factor Loadings:\n"
     ]
    },
    {
     "data": {
      "text/html": [
       "<div>\n",
       "<style scoped>\n",
       "    .dataframe tbody tr th:only-of-type {\n",
       "        vertical-align: middle;\n",
       "    }\n",
       "\n",
       "    .dataframe tbody tr th {\n",
       "        vertical-align: top;\n",
       "    }\n",
       "\n",
       "    .dataframe thead th {\n",
       "        text-align: right;\n",
       "    }\n",
       "</style>\n",
       "<table border=\"1\" class=\"dataframe\">\n",
       "  <thead>\n",
       "    <tr style=\"text-align: right;\">\n",
       "      <th></th>\n",
       "      <th>Alpha</th>\n",
       "      <th>MKT-RF</th>\n",
       "    </tr>\n",
       "  </thead>\n",
       "  <tbody>\n",
       "    <tr>\n",
       "      <th>P1 (low quality)</th>\n",
       "      <td>-0.781595</td>\n",
       "      <td>1.445675</td>\n",
       "    </tr>\n",
       "    <tr>\n",
       "      <th>P2</th>\n",
       "      <td>-0.388346</td>\n",
       "      <td>1.302777</td>\n",
       "    </tr>\n",
       "    <tr>\n",
       "      <th>P3</th>\n",
       "      <td>-0.501506</td>\n",
       "      <td>1.163944</td>\n",
       "    </tr>\n",
       "    <tr>\n",
       "      <th>P4</th>\n",
       "      <td>-0.224508</td>\n",
       "      <td>1.082327</td>\n",
       "    </tr>\n",
       "    <tr>\n",
       "      <th>P5</th>\n",
       "      <td>-0.154477</td>\n",
       "      <td>0.997975</td>\n",
       "    </tr>\n",
       "    <tr>\n",
       "      <th>P6</th>\n",
       "      <td>-0.191525</td>\n",
       "      <td>1.079568</td>\n",
       "    </tr>\n",
       "    <tr>\n",
       "      <th>P7</th>\n",
       "      <td>-0.222719</td>\n",
       "      <td>1.012887</td>\n",
       "    </tr>\n",
       "    <tr>\n",
       "      <th>P8</th>\n",
       "      <td>0.046912</td>\n",
       "      <td>1.022303</td>\n",
       "    </tr>\n",
       "    <tr>\n",
       "      <th>P9</th>\n",
       "      <td>0.315203</td>\n",
       "      <td>0.922847</td>\n",
       "    </tr>\n",
       "    <tr>\n",
       "      <th>P10 (high quality)</th>\n",
       "      <td>0.259821</td>\n",
       "      <td>0.881338</td>\n",
       "    </tr>\n",
       "  </tbody>\n",
       "</table>\n",
       "</div>"
      ],
      "text/plain": [
       "                       Alpha    MKT-RF\n",
       "P1 (low quality)   -0.781595  1.445675\n",
       "P2                 -0.388346  1.302777\n",
       "P3                 -0.501506  1.163944\n",
       "P4                 -0.224508  1.082327\n",
       "P5                 -0.154477  0.997975\n",
       "P6                 -0.191525  1.079568\n",
       "P7                 -0.222719  1.012887\n",
       "P8                  0.046912  1.022303\n",
       "P9                  0.315203  0.922847\n",
       "P10 (high quality)  0.259821  0.881338"
      ]
     },
     "metadata": {},
     "output_type": "display_data"
    },
    {
     "name": "stdout",
     "output_type": "stream",
     "text": [
      "F-Statistic = 2.1194875360432115\n",
      "p-value = 0.028591370915635128\n"
     ]
    }
   ],
   "source": [
    "factor_names = [\"MKT-RF\"]\n",
    "alphas_df.loc[:, \"Recent CAPM Alpha\"] = perform_time_series_regression(factor_names, index)"
   ]
  },
  {
   "cell_type": "markdown",
   "metadata": {},
   "source": [
    "### b) Testing Quality Portfolios Against the Carhart Four Factor Model"
   ]
  },
  {
   "cell_type": "code",
   "execution_count": 10,
   "metadata": {},
   "outputs": [
    {
     "name": "stdout",
     "output_type": "stream",
     "text": [
      "Alphas and Factor Loadings:\n"
     ]
    },
    {
     "data": {
      "text/html": [
       "<div>\n",
       "<style scoped>\n",
       "    .dataframe tbody tr th:only-of-type {\n",
       "        vertical-align: middle;\n",
       "    }\n",
       "\n",
       "    .dataframe tbody tr th {\n",
       "        vertical-align: top;\n",
       "    }\n",
       "\n",
       "    .dataframe thead th {\n",
       "        text-align: right;\n",
       "    }\n",
       "</style>\n",
       "<table border=\"1\" class=\"dataframe\">\n",
       "  <thead>\n",
       "    <tr style=\"text-align: right;\">\n",
       "      <th></th>\n",
       "      <th>Alpha</th>\n",
       "      <th>MKT-RF</th>\n",
       "      <th>SMB</th>\n",
       "      <th>HML</th>\n",
       "      <th>UMD</th>\n",
       "    </tr>\n",
       "  </thead>\n",
       "  <tbody>\n",
       "    <tr>\n",
       "      <th>P1 (low quality)</th>\n",
       "      <td>-0.429259</td>\n",
       "      <td>1.133422</td>\n",
       "      <td>1.134669</td>\n",
       "      <td>-0.053456</td>\n",
       "      <td>-0.084346</td>\n",
       "    </tr>\n",
       "    <tr>\n",
       "      <th>P2</th>\n",
       "      <td>-0.162739</td>\n",
       "      <td>1.122361</td>\n",
       "      <td>0.623549</td>\n",
       "      <td>0.029621</td>\n",
       "      <td>-0.051337</td>\n",
       "    </tr>\n",
       "    <tr>\n",
       "      <th>P3</th>\n",
       "      <td>-0.370756</td>\n",
       "      <td>1.068161</td>\n",
       "      <td>0.301353</td>\n",
       "      <td>0.038186</td>\n",
       "      <td>-0.038503</td>\n",
       "    </tr>\n",
       "    <tr>\n",
       "      <th>P4</th>\n",
       "      <td>-0.110232</td>\n",
       "      <td>1.041178</td>\n",
       "      <td>0.211774</td>\n",
       "      <td>0.269331</td>\n",
       "      <td>0.09755</td>\n",
       "    </tr>\n",
       "    <tr>\n",
       "      <th>P5</th>\n",
       "      <td>-0.042202</td>\n",
       "      <td>0.977792</td>\n",
       "      <td>-0.021164</td>\n",
       "      <td>0.26231</td>\n",
       "      <td>0.009845</td>\n",
       "    </tr>\n",
       "    <tr>\n",
       "      <th>P6</th>\n",
       "      <td>-0.02524</td>\n",
       "      <td>1.012231</td>\n",
       "      <td>0.111166</td>\n",
       "      <td>0.235261</td>\n",
       "      <td>-0.030432</td>\n",
       "    </tr>\n",
       "    <tr>\n",
       "      <th>P7</th>\n",
       "      <td>-0.145269</td>\n",
       "      <td>0.988021</td>\n",
       "      <td>0.031569</td>\n",
       "      <td>0.138689</td>\n",
       "      <td>-0.003089</td>\n",
       "    </tr>\n",
       "    <tr>\n",
       "      <th>P8</th>\n",
       "      <td>0.093963</td>\n",
       "      <td>1.002055</td>\n",
       "      <td>-0.029919</td>\n",
       "      <td>0.024788</td>\n",
       "      <td>-0.057844</td>\n",
       "    </tr>\n",
       "    <tr>\n",
       "      <th>P9</th>\n",
       "      <td>0.198181</td>\n",
       "      <td>0.988289</td>\n",
       "      <td>-0.1262</td>\n",
       "      <td>-0.080073</td>\n",
       "      <td>0.05816</td>\n",
       "    </tr>\n",
       "    <tr>\n",
       "      <th>P10 (high quality)</th>\n",
       "      <td>0.128384</td>\n",
       "      <td>0.946998</td>\n",
       "      <td>-0.234363</td>\n",
       "      <td>-0.190567</td>\n",
       "      <td>-0.032901</td>\n",
       "    </tr>\n",
       "  </tbody>\n",
       "</table>\n",
       "</div>"
      ],
      "text/plain": [
       "                       Alpha    MKT-RF       SMB       HML       UMD\n",
       "P1 (low quality)   -0.429259  1.133422  1.134669 -0.053456 -0.084346\n",
       "P2                 -0.162739  1.122361  0.623549  0.029621 -0.051337\n",
       "P3                 -0.370756  1.068161  0.301353  0.038186 -0.038503\n",
       "P4                 -0.110232  1.041178  0.211774  0.269331   0.09755\n",
       "P5                 -0.042202  0.977792 -0.021164   0.26231  0.009845\n",
       "P6                  -0.02524  1.012231  0.111166  0.235261 -0.030432\n",
       "P7                 -0.145269  0.988021  0.031569  0.138689 -0.003089\n",
       "P8                  0.093963  1.002055 -0.029919  0.024788 -0.057844\n",
       "P9                  0.198181  0.988289   -0.1262 -0.080073   0.05816\n",
       "P10 (high quality)  0.128384  0.946998 -0.234363 -0.190567 -0.032901"
      ]
     },
     "metadata": {},
     "output_type": "display_data"
    },
    {
     "name": "stdout",
     "output_type": "stream",
     "text": [
      "F-Statistic = 1.843218556723222\n",
      "p-value = 0.06157629066573567\n"
     ]
    }
   ],
   "source": [
    "factor_names = [\"MKT-RF\", \"SMB\", \"HML\", \"UMD\"]\n",
    "alphas_df.loc[:, \"Recent 4 Factor Alpha\"] = perform_time_series_regression(factor_names, index)"
   ]
  },
  {
   "cell_type": "code",
   "execution_count": 11,
   "metadata": {},
   "outputs": [
    {
     "data": {
      "image/png": "[encoded data removed]",
      "text/plain": [
       "<Figure size 1080x720 with 1 Axes>"
      ]
     },
     "metadata": {
      "needs_background": "light"
     },
     "output_type": "display_data"
    }
   ],
   "source": [
    "ax = alphas_df.plot(style='.-', figsize=(15,10), title = \"Alphas Across Portfolios\", ylabel = \"Alpha\", xlabel = \"Portfolio\");\n",
    "ax.locator_params(\"y\", nbins = 15);\n",
    "ax.set_xticks(range(0,10));\n",
    "ax.set_xticklabels(quality_portfolios_df.columns);"
   ]
  }
 ],
 "metadata": {
  "interpreter": {
   "hash": "767d51c1340bd893661ea55ea3124f6de3c7a262a8b4abca0554b478b1e2ff90"
  },
  "kernelspec": {
   "display_name": "Python 2.7.16 64-bit",
   "language": "python",
   "name": "python3"
  },
  "language_info": {
   "codemirror_mode": {
    "name": "ipython",
    "version": 3
   },
   "file_extension": ".py",
   "mimetype": "text/x-python",
   "name": "python",
   "nbconvert_exporter": "python",
   "pygments_lexer": "ipython3",
   "version": "3.8.5"
  },
  "orig_nbformat": 4
 },
 "nbformat": 4,
 "nbformat_minor": 2
}
